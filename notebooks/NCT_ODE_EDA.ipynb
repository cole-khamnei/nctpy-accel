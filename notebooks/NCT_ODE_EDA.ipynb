{
 "cells": [
  {
   "cell_type": "code",
   "execution_count": 39,
   "id": "6a094c3b-d6a8-4380-90f3-5766ec0d742f",
   "metadata": {},
   "outputs": [],
   "source": [
    "import os\n",
    "import h5py\n",
    "\n",
    "import numpy as np\n",
    "import matplotlib.pyplot as plt\n",
    "import nibabel as nb\n",
    "\n",
    "import torch\n",
    "import torch.nn as nn\n",
    "from torchdiffeq import odeint"
   ]
  },
  {
   "cell_type": "code",
   "execution_count": 33,
   "id": "88d67832-00d5-463d-bff8-c91f01315e7e",
   "metadata": {},
   "outputs": [],
   "source": [
    "cifti_dir = \"/home/cole/_research/data/ML_analysis_data/fMRI_ciftis/rfMRI_REST1_7T_PA\"\n",
    "hd5_path = \"/home/cole/_research/data/ML_analysis_data/HCP_7T_rfMRI_Schaefer400.hdf5\""
   ]
  },
  {
   "cell_type": "code",
   "execution_count": 34,
   "id": "2cd97b7e-1af7-4203-a760-92663f18bcfe",
   "metadata": {},
   "outputs": [],
   "source": [
    "with h5py.File(hd5_path, \"r\") as file:\n",
    "    states = file[\"tfMRI\"][\"100610\"][:]\n",
    "# file = h5py.File(hd5_path, \"r\")"
   ]
  },
  {
   "cell_type": "code",
   "execution_count": 41,
   "id": "a4a29bfc-b991-4bf8-aa39-21908b0d502f",
   "metadata": {},
   "outputs": [],
   "source": [
    "dev = torch.device(\"cuda\")"
   ]
  },
  {
   "cell_type": "markdown",
   "id": "fd7f951d-d4e5-44a5-8994-1b35db595d3a",
   "metadata": {},
   "source": [
    "# Example"
   ]
  },
  {
   "cell_type": "code",
   "execution_count": 42,
   "id": "92d5fb8b-82fb-4db1-b338-222ed339b514",
   "metadata": {},
   "outputs": [],
   "source": [
    "class ODEFunc(nn.Module):\n",
    "    def __init__(self):\n",
    "        super(ODEFunc, self).__init__()\n",
    "\n",
    "        self.net = nn.Sequential(\n",
    "            nn.Linear(2, 50),\n",
    "            nn.Tanh(),\n",
    "            nn.Linear(50, 2),\n",
    "        )\n",
    "        for m in self.net.modules():\n",
    "            if isinstance(m, nn.Linear):\n",
    "                nn.init.normal_(m.weight, mean=0, std=0.1)\n",
    "                nn.init.constant_(m.bias, val=0)\n",
    "\n",
    "    def forward(self, t, y):\n",
    "        return self.net(y**3)"
   ]
  },
  {
   "cell_type": "code",
   "execution_count": null,
   "id": "3fce1b99-2ab1-4507-8f37-007dbfcc012b",
   "metadata": {},
   "outputs": [],
   "source": []
  },
  {
   "cell_type": "code",
   "execution_count": 27,
   "id": "16b8ab77-ef02-4c32-9172-4fe457e53be0",
   "metadata": {},
   "outputs": [],
   "source": []
  },
  {
   "cell_type": "code",
   "execution_count": null,
   "id": "69edc8d9-469b-4ca5-9d11-2a691334db0b",
   "metadata": {},
   "outputs": [],
   "source": []
  },
  {
   "cell_type": "code",
   "execution_count": null,
   "id": "9a0b687e-da8d-46b6-9982-167bc88e6e17",
   "metadata": {},
   "outputs": [],
   "source": []
  }
 ],
 "metadata": {
  "kernelspec": {
   "display_name": "Python 3 (ipykernel)",
   "language": "python",
   "name": "python3"
  },
  "language_info": {
   "codemirror_mode": {
    "name": "ipython",
    "version": 3
   },
   "file_extension": ".py",
   "mimetype": "text/x-python",
   "name": "python",
   "nbconvert_exporter": "python",
   "pygments_lexer": "ipython3",
   "version": "3.11.10"
  }
 },
 "nbformat": 4,
 "nbformat_minor": 5
}
